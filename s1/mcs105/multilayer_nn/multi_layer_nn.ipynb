{
 "cells": [
  {
   "cell_type": "markdown",
   "metadata": {
    "colab_type": "text",
    "id": "SVSu7fWsnxve"
   },
   "source": [
    "# Things to do!\n",
    "\n",
    "+ Use Multiclass Dataset and use one-hot encoding on it.\n",
    "+ Provide data set desc.\n",
    "+ Normalize the data using minmax\n",
    "+ Divide dataset into train and test and check for bias and variance.\n",
    "+ Compare your model with logistic regression\n",
    "+ Tune Hyperparameters and do analysis on it."
   ]
  },
  {
   "cell_type": "markdown",
   "metadata": {
    "colab_type": "text",
    "id": "fKKcm2WxTL_R"
   },
   "source": [
    "# Package imports"
   ]
  },
  {
   "cell_type": "code",
   "execution_count": 11,
   "metadata": {
    "colab": {},
    "colab_type": "code",
    "id": "mJDR_lRUTL_Z"
   },
   "outputs": [],
   "source": [
    "import pandas as pd\n",
    "import numpy as np\n",
    "import sklearn\n",
    "from sklearn.datasets import load_breast_cancer\n",
    "import matplotlib.pyplot as plt\n",
    "\n",
    "import L_layer_nn as lnn"
   ]
  },
  {
   "cell_type": "markdown",
   "metadata": {
    "colab_type": "text",
    "id": "yy0UZCnOTL_n"
   },
   "source": [
    "# Dataset Init"
   ]
  },
  {
   "cell_type": "code",
   "execution_count": 58,
   "metadata": {},
   "outputs": [],
   "source": [
    "from sklearn.datasets import fetch_covtype\n",
    "dataset = pd.read_csv(\"covtype.data\")"
   ]
  },
  {
   "cell_type": "code",
   "execution_count": 60,
   "metadata": {},
   "outputs": [
    {
     "data": {
      "text/html": [
       "<div>\n",
       "<style scoped>\n",
       "    .dataframe tbody tr th:only-of-type {\n",
       "        vertical-align: middle;\n",
       "    }\n",
       "\n",
       "    .dataframe tbody tr th {\n",
       "        vertical-align: top;\n",
       "    }\n",
       "\n",
       "    .dataframe thead th {\n",
       "        text-align: right;\n",
       "    }\n",
       "</style>\n",
       "<table border=\"1\" class=\"dataframe\">\n",
       "  <thead>\n",
       "    <tr style=\"text-align: right;\">\n",
       "      <th></th>\n",
       "      <th>2596</th>\n",
       "      <th>51</th>\n",
       "      <th>3</th>\n",
       "      <th>258</th>\n",
       "      <th>0</th>\n",
       "      <th>510</th>\n",
       "      <th>221</th>\n",
       "      <th>232</th>\n",
       "      <th>148</th>\n",
       "      <th>6279</th>\n",
       "      <th>...</th>\n",
       "      <th>0.34</th>\n",
       "      <th>0.35</th>\n",
       "      <th>0.36</th>\n",
       "      <th>0.37</th>\n",
       "      <th>0.38</th>\n",
       "      <th>0.39</th>\n",
       "      <th>0.40</th>\n",
       "      <th>0.41</th>\n",
       "      <th>0.42</th>\n",
       "      <th>5</th>\n",
       "    </tr>\n",
       "  </thead>\n",
       "  <tbody>\n",
       "    <tr>\n",
       "      <th>0</th>\n",
       "      <td>2590</td>\n",
       "      <td>56</td>\n",
       "      <td>2</td>\n",
       "      <td>212</td>\n",
       "      <td>-6</td>\n",
       "      <td>390</td>\n",
       "      <td>220</td>\n",
       "      <td>235</td>\n",
       "      <td>151</td>\n",
       "      <td>6225</td>\n",
       "      <td>...</td>\n",
       "      <td>0</td>\n",
       "      <td>0</td>\n",
       "      <td>0</td>\n",
       "      <td>0</td>\n",
       "      <td>0</td>\n",
       "      <td>0</td>\n",
       "      <td>0</td>\n",
       "      <td>0</td>\n",
       "      <td>0</td>\n",
       "      <td>5</td>\n",
       "    </tr>\n",
       "    <tr>\n",
       "      <th>1</th>\n",
       "      <td>2804</td>\n",
       "      <td>139</td>\n",
       "      <td>9</td>\n",
       "      <td>268</td>\n",
       "      <td>65</td>\n",
       "      <td>3180</td>\n",
       "      <td>234</td>\n",
       "      <td>238</td>\n",
       "      <td>135</td>\n",
       "      <td>6121</td>\n",
       "      <td>...</td>\n",
       "      <td>0</td>\n",
       "      <td>0</td>\n",
       "      <td>0</td>\n",
       "      <td>0</td>\n",
       "      <td>0</td>\n",
       "      <td>0</td>\n",
       "      <td>0</td>\n",
       "      <td>0</td>\n",
       "      <td>0</td>\n",
       "      <td>2</td>\n",
       "    </tr>\n",
       "    <tr>\n",
       "      <th>2</th>\n",
       "      <td>2785</td>\n",
       "      <td>155</td>\n",
       "      <td>18</td>\n",
       "      <td>242</td>\n",
       "      <td>118</td>\n",
       "      <td>3090</td>\n",
       "      <td>238</td>\n",
       "      <td>238</td>\n",
       "      <td>122</td>\n",
       "      <td>6211</td>\n",
       "      <td>...</td>\n",
       "      <td>0</td>\n",
       "      <td>0</td>\n",
       "      <td>0</td>\n",
       "      <td>0</td>\n",
       "      <td>0</td>\n",
       "      <td>0</td>\n",
       "      <td>0</td>\n",
       "      <td>0</td>\n",
       "      <td>0</td>\n",
       "      <td>2</td>\n",
       "    </tr>\n",
       "    <tr>\n",
       "      <th>3</th>\n",
       "      <td>2595</td>\n",
       "      <td>45</td>\n",
       "      <td>2</td>\n",
       "      <td>153</td>\n",
       "      <td>-1</td>\n",
       "      <td>391</td>\n",
       "      <td>220</td>\n",
       "      <td>234</td>\n",
       "      <td>150</td>\n",
       "      <td>6172</td>\n",
       "      <td>...</td>\n",
       "      <td>0</td>\n",
       "      <td>0</td>\n",
       "      <td>0</td>\n",
       "      <td>0</td>\n",
       "      <td>0</td>\n",
       "      <td>0</td>\n",
       "      <td>0</td>\n",
       "      <td>0</td>\n",
       "      <td>0</td>\n",
       "      <td>5</td>\n",
       "    </tr>\n",
       "    <tr>\n",
       "      <th>4</th>\n",
       "      <td>2579</td>\n",
       "      <td>132</td>\n",
       "      <td>6</td>\n",
       "      <td>300</td>\n",
       "      <td>-15</td>\n",
       "      <td>67</td>\n",
       "      <td>230</td>\n",
       "      <td>237</td>\n",
       "      <td>140</td>\n",
       "      <td>6031</td>\n",
       "      <td>...</td>\n",
       "      <td>0</td>\n",
       "      <td>0</td>\n",
       "      <td>0</td>\n",
       "      <td>0</td>\n",
       "      <td>0</td>\n",
       "      <td>0</td>\n",
       "      <td>0</td>\n",
       "      <td>0</td>\n",
       "      <td>0</td>\n",
       "      <td>2</td>\n",
       "    </tr>\n",
       "  </tbody>\n",
       "</table>\n",
       "<p>5 rows × 55 columns</p>\n",
       "</div>"
      ],
      "text/plain": [
       "   2596   51   3  258    0   510  221  232  148  6279 ...  0.34  0.35  0.36  \\\n",
       "0  2590   56   2  212   -6   390  220  235  151  6225 ...     0     0     0   \n",
       "1  2804  139   9  268   65  3180  234  238  135  6121 ...     0     0     0   \n",
       "2  2785  155  18  242  118  3090  238  238  122  6211 ...     0     0     0   \n",
       "3  2595   45   2  153   -1   391  220  234  150  6172 ...     0     0     0   \n",
       "4  2579  132   6  300  -15    67  230  237  140  6031 ...     0     0     0   \n",
       "\n",
       "   0.37  0.38  0.39  0.40  0.41  0.42  5  \n",
       "0     0     0     0     0     0     0  5  \n",
       "1     0     0     0     0     0     0  2  \n",
       "2     0     0     0     0     0     0  2  \n",
       "3     0     0     0     0     0     0  5  \n",
       "4     0     0     0     0     0     0  2  \n",
       "\n",
       "[5 rows x 55 columns]"
      ]
     },
     "execution_count": 60,
     "metadata": {},
     "output_type": "execute_result"
    }
   ],
   "source": [
    "dataset.head()"
   ]
  },
  {
   "cell_type": "code",
   "execution_count": 12,
   "metadata": {
    "colab": {
     "base_uri": "https://localhost:8080/",
     "height": 34
    },
    "colab_type": "code",
    "id": "g0CZAGWHTL_s",
    "outputId": "21c6884b-5ae0-40e8-80ab-6380aac3208c"
   },
   "outputs": [
    {
     "name": "stdout",
     "output_type": "stream",
     "text": [
      "(30, 569)\n"
     ]
    }
   ],
   "source": [
    "dataset = load_breast_cancer()\n",
    "X = dataset.data\n",
    "Y = dataset.target\n",
    "\n",
    "# Generate random permutation of the dataset\n",
    "idx = np.random.permutation(X.shape[0])\n",
    "X, Y = X[idx], Y[idx]\n",
    "\n",
    "#Normalize the dataset\n",
    "X = X.T\n",
    "X = (X-np.min(X, axis=1, keepdims = True))/(np.max(X, axis=1, keepdims = True)-np.min(X, axis = 1, keepdims = True))\n",
    "print(X.shape)"
   ]
  },
  {
   "cell_type": "code",
   "execution_count": 13,
   "metadata": {
    "colab": {
     "base_uri": "https://localhost:8080/",
     "height": 67
    },
    "colab_type": "code",
    "id": "HQhKShdzTL_-",
    "outputId": "a7b387ed-66c4-4861-8726-fb87c1a7609a"
   },
   "outputs": [
    {
     "name": "stdout",
     "output_type": "stream",
     "text": [
      "The shape of X(Features) is: (30, 569)\n",
      "The shape of Y(Target values) is: (1, 569)\n",
      "Number of training examples: 569\n"
     ]
    }
   ],
   "source": [
    "shape_X = X.shape\n",
    "Y = Y.reshape(1,Y.shape[0])\n",
    "shape_Y = Y.shape\n",
    "m = X.shape[1]  # training set size\n",
    "\n",
    "# Type: numpy array, validate using function type(X), type(Y)\n",
    "print ('The shape of X(Features) is: ' + str(shape_X))\n",
    "print ('The shape of Y(Target values) is: ' + str(shape_Y))\n",
    "print ('Number of training examples:', m)"
   ]
  },
  {
   "cell_type": "markdown",
   "metadata": {
    "colab_type": "text",
    "id": "Wl3e_2ekTMAN"
   },
   "source": [
    "# 2-layer Neural Network"
   ]
  },
  {
   "cell_type": "markdown",
   "metadata": {
    "colab_type": "text",
    "id": "siiYK9pLTMDY"
   },
   "source": [
    "# Training"
   ]
  },
  {
   "cell_type": "code",
   "execution_count": 50,
   "metadata": {
    "colab": {
     "base_uri": "https://localhost:8080/",
     "height": 880
    },
    "colab_type": "code",
    "id": "3rFv4v0kTMDa",
    "outputId": "00989b67-275c-4bc1-8659-bdc5e2d531dc"
   },
   "outputs": [
    {
     "name": "stdout",
     "output_type": "stream",
     "text": [
      "Cost after iteration 100: 0.693146\n",
      "Cost after iteration 200: 0.660568\n",
      "Cost after iteration 300: 0.660315\n",
      "Cost after iteration 400: 0.660310\n",
      "Cost after iteration 500: 0.660307\n",
      "Cost after iteration 600: 0.660304\n",
      "Cost after iteration 700: 0.660299\n",
      "Cost after iteration 800: 0.660293\n",
      "Cost after iteration 900: 0.660283\n",
      "Cost after iteration 1000: 0.660268\n",
      "Cost after iteration 1100: 0.660242\n",
      "Cost after iteration 1200: 0.660194\n",
      "Cost after iteration 1300: 0.660096\n",
      "Cost after iteration 1400: 0.659860\n",
      "Cost after iteration 1500: 0.659136\n",
      "Cost after iteration 1600: 0.655697\n",
      "Cost after iteration 1700: 0.615212\n",
      "Cost after iteration 1800: 0.303504\n",
      "Cost after iteration 1900: 0.158795\n",
      "Cost after iteration 2000: 0.111014\n",
      "Cost after iteration 2100: 0.089559\n",
      "Cost after iteration 2200: 0.078161\n",
      "Cost after iteration 2300: 0.071352\n",
      "Cost after iteration 2400: 0.066822\n",
      "Cost after iteration 2500: 0.063526\n",
      "Cost after iteration 2600: 0.060960\n",
      "Cost after iteration 2700: 0.058858\n",
      "Cost after iteration 2800: 0.057078\n",
      "Cost after iteration 2900: 0.055534\n",
      "Cost after iteration 3000: 0.054183\n"
     ]
    },
    {
     "data": {
      "image/png": "[encoded data removed]",
      "text/plain": [
       "<Figure size 432x288 with 1 Axes>"
      ]
     },
     "metadata": {},
     "output_type": "display_data"
    }
   ],
   "source": [
    "#Dimensions of each layer in our network\n",
    "layer_dims = [X.shape[0],12,10,Y.shape[0]]\n",
    "activation_functions = [\"relu\",\"relu\",\"sigmoid\"]\n",
    "alpha = 0.1\n",
    "parameters = lnn.L_layer_model(X, Y, layer_dims, activation_functions, learning_rate = alpha, num_iterations = 3000, print_cost=True, print_plot =  True)"
   ]
  },
  {
   "cell_type": "markdown",
   "metadata": {
    "colab_type": "text",
    "id": "zw2gp34HTMDt"
   },
   "source": [
    "# Predictions and Accuracy"
   ]
  },
  {
   "cell_type": "code",
   "execution_count": 51,
   "metadata": {
    "colab": {
     "base_uri": "https://localhost:8080/",
     "height": 34
    },
    "colab_type": "code",
    "id": "5-V14UQhTMD6",
    "outputId": "24af213c-238d-42e9-c39c-6015659ef06c"
   },
   "outputs": [
    {
     "name": "stdout",
     "output_type": "stream",
     "text": [
      "Accuracy: 98%\n"
     ]
    }
   ],
   "source": [
    "activations = [\"relu\",\"relu\",\"sigmoid\"]\n",
    "predictions = lnn.predict(parameters, X, activations)\n",
    "print ('Accuracy: %d' % float((np.dot(Y,predictions.T) + np.dot(1-Y,1-predictions.T))/float(Y.size)*100) + '%')"
   ]
  },
  {
   "cell_type": "code",
   "execution_count": 52,
   "metadata": {
    "colab": {
     "base_uri": "https://localhost:8080/",
     "height": 34
    },
    "colab_type": "code",
    "id": "SYTxT7vH2emz",
    "outputId": "7f7855b0-afda-4f3c-a7d7-fdd24aa3910c"
   },
   "outputs": [
    {
     "name": "stdout",
     "output_type": "stream",
     "text": [
      "Accuracy: 93%\n"
     ]
    }
   ],
   "source": [
    "activations = [\"tanh\",\"tanh\",\"sigmoid\"]\n",
    "parameters = lnn.L_layer_model(X, Y, layer_dims, activation_functions, learning_rate = alpha, num_iterations = 3000)\n",
    "predictions = lnn.predict(parameters, X, activations)\n",
    "print ('Accuracy: %d' % float((np.dot(Y,predictions.T) + np.dot(1-Y,1-predictions.T))/float(Y.size)*100) + '%')"
   ]
  },
  {
   "cell_type": "code",
   "execution_count": 53,
   "metadata": {
    "colab": {
     "base_uri": "https://localhost:8080/",
     "height": 34
    },
    "colab_type": "code",
    "id": "hBF07oao2lIk",
    "outputId": "6a7907dc-66a1-42af-82e3-43d19837469b"
   },
   "outputs": [
    {
     "name": "stdout",
     "output_type": "stream",
     "text": [
      "Accuracy: 97%\n"
     ]
    }
   ],
   "source": [
    "activations = [\"relu\",\"tanh\",\"sigmoid\"]\n",
    "parameters = lnn.L_layer_model(X, Y, layer_dims, activation_functions, learning_rate = alpha, num_iterations = 3000)\n",
    "predictions = lnn.predict(parameters, X, activations)\n",
    "print ('Accuracy: %d' % float((np.dot(Y,predictions.T) + np.dot(1-Y,1-predictions.T))/float(Y.size)*100) + '%')"
   ]
  },
  {
   "cell_type": "code",
   "execution_count": 54,
   "metadata": {
    "colab": {},
    "colab_type": "code",
    "id": "89Tje0u747-p"
   },
   "outputs": [
    {
     "name": "stdout",
     "output_type": "stream",
     "text": [
      "Accuracy: 97%\n"
     ]
    }
   ],
   "source": [
    "activations = [\"tanh\",\"relu\",\"sigmoid\"]\n",
    "parameters = lnn.L_layer_model(X, Y, layer_dims, activation_functions, learning_rate = alpha, num_iterations = 3000)\n",
    "predictions = lnn.predict(parameters, X, activations)\n",
    "print ('Accuracy: %d' % float((np.dot(Y,predictions.T) + np.dot(1-Y,1-predictions.T))/float(Y.size)*100) + '%')"
   ]
  },
  {
   "cell_type": "code",
   "execution_count": null,
   "metadata": {},
   "outputs": [],
   "source": []
  }
 ],
 "metadata": {
  "colab": {
   "collapsed_sections": [],
   "name": "Copy of multi_layer_nn.ipynb",
   "provenance": [],
   "version": "0.3.2"
  },
  "kernelspec": {
   "display_name": "Python 3",
   "language": "python",
   "name": "python3"
  },
  "language_info": {
   "codemirror_mode": {
    "name": "ipython",
    "version": 3
   },
   "file_extension": ".py",
   "mimetype": "text/x-python",
   "name": "python",
   "nbconvert_exporter": "python",
   "pygments_lexer": "ipython3",
   "version": "3.6.5"
  }
 },
 "nbformat": 4,
 "nbformat_minor": 2
}
